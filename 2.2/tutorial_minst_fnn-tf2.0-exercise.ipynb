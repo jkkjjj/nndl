{
 "cells": [
  {
   "cell_type": "markdown",
   "metadata": {},
   "source": [
    "## 准备数据"
   ]
  },
  {
   "cell_type": "code",
   "execution_count": 1,
   "metadata": {},
   "outputs": [],
   "source": [
    "import os\n",
    "import numpy as np\n",
    "import tensorflow as tf\n",
    "from tensorflow import keras\n",
    "from tensorflow.keras import layers, optimizers, datasets\n",
    "\n",
    "os.environ['TF_CPP_MIN_LOG_LEVEL'] = '2'  # or any {'0', '1', '2'}\n",
    "\n",
    "def mnist_dataset():\n",
    "    (x, y), (x_test, y_test) = datasets.mnist.load_data()\n",
    "    #normalize\n",
    "    x = x/255.0\n",
    "    x_test = x_test/255.0\n",
    "    \n",
    "    return (x, y), (x_test, y_test)"
   ]
  },
  {
   "cell_type": "code",
   "execution_count": 2,
   "metadata": {},
   "outputs": [
    {
     "name": "stdout",
     "output_type": "stream",
     "text": [
      "[(1, 'a'), (2, 'b'), (3, 'c'), (4, 'd')]\n"
     ]
    }
   ],
   "source": [
    "print(list(zip([1, 2, 3, 4], ['a', 'b', 'c', 'd'])))"
   ]
  },
  {
   "cell_type": "markdown",
   "metadata": {},
   "source": [
    "## 建立模型"
   ]
  },
  {
   "cell_type": "code",
   "execution_count": 3,
   "metadata": {},
   "outputs": [],
   "source": [
    "class myModel:\n",
    "    def __init__(self):\n",
    "        ####################\n",
    "        '''声明模型对应的参数'''\n",
    "        ####################\n",
    "        self.W1 = tf.Variable(tf.random.normal(shape=[28*28, 100]))\n",
    "        self.b1 = tf.Variable(tf.zeros([100]))\n",
    "        self.W2 = tf.Variable(tf.random.normal(shape=[100, 10]))\n",
    "        self.b2 = tf.Variable(tf.zeros([10]))\n",
    "\n",
    "    \n",
    "    def __call__(self, x):\n",
    "        ####################\n",
    "        '''实现模型函数体，返回未归一化的logits'''\n",
    "        ####################\n",
    "        x = tf.reshape(x, [-1, 28*28])\n",
    "        \n",
    "        h1 = tf.matmul(x, self.W1) + self.b1\n",
    "        h1_relu = tf.nn.relu(h1)\n",
    "        \n",
    "        logits = tf.matmul(h1_relu, self.W2) + self.b2\n",
    "        return logits\n",
    "        \n",
    "model = myModel()\n",
    "\n",
    "optimizer = optimizers.Adam()"
   ]
  },
  {
   "cell_type": "markdown",
   "metadata": {},
   "source": [
    "## 计算 loss"
   ]
  },
  {
   "cell_type": "code",
   "execution_count": 4,
   "metadata": {},
   "outputs": [],
   "source": [
    "@tf.function\n",
    "def compute_loss(logits, labels):\n",
    "    return tf.reduce_mean(\n",
    "        tf.nn.sparse_softmax_cross_entropy_with_logits(\n",
    "            logits=logits, labels=labels))\n",
    "\n",
    "@tf.function\n",
    "def compute_accuracy(logits, labels):\n",
    "    predictions = tf.argmax(logits, axis=1)\n",
    "    return tf.reduce_mean(tf.cast(tf.equal(predictions, labels), tf.float32))\n",
    "\n",
    "@tf.function\n",
    "def train_one_step(model, optimizer, x, y):\n",
    "    with tf.GradientTape() as tape:\n",
    "        logits = model(x)\n",
    "        loss = compute_loss(logits, y)\n",
    "\n",
    "    # compute gradient\n",
    "    trainable_vars = [model.W1, model.W2, model.b1, model.b2]\n",
    "    grads = tape.gradient(loss, trainable_vars)\n",
    "    for g, v in zip(grads, trainable_vars):\n",
    "        v.assign_sub(0.01*g)\n",
    "\n",
    "    accuracy = compute_accuracy(logits, y)\n",
    "\n",
    "    # loss and accuracy is scalar tensor\n",
    "    return loss, accuracy\n",
    "\n",
    "@tf.function\n",
    "def test(model, x, y):\n",
    "    logits = model(x)\n",
    "    loss = compute_loss(logits, y)\n",
    "    accuracy = compute_accuracy(logits, y)\n",
    "    return loss, accuracy"
   ]
  },
  {
   "cell_type": "markdown",
   "metadata": {},
   "source": [
    "## 实际训练"
   ]
  },
  {
   "cell_type": "code",
   "execution_count": 5,
   "metadata": {},
   "outputs": [
    {
     "name": "stdout",
     "output_type": "stream",
     "text": [
      "epoch 0 : loss 147.14862 ; accuracy 0.058933333\n",
      "epoch 1 : loss 134.78345 ; accuracy 0.056966666\n",
      "epoch 2 : loss 125.845184 ; accuracy 0.058266666\n",
      "epoch 3 : loss 118.83418 ; accuracy 0.061816666\n",
      "epoch 4 : loss 112.99085 ; accuracy 0.06526667\n",
      "epoch 5 : loss 107.892975 ; accuracy 0.06983333\n",
      "epoch 6 : loss 103.3025 ; accuracy 0.07351667\n",
      "epoch 7 : loss 99.09047 ; accuracy 0.07728333\n",
      "epoch 8 : loss 95.187515 ; accuracy 0.08106667\n",
      "epoch 9 : loss 91.55407 ; accuracy 0.08445\n",
      "epoch 10 : loss 88.159966 ; accuracy 0.088\n",
      "epoch 11 : loss 84.98092 ; accuracy 0.0917\n",
      "epoch 12 : loss 81.99512 ; accuracy 0.094566666\n",
      "epoch 13 : loss 79.18537 ; accuracy 0.09753333\n",
      "epoch 14 : loss 76.54221 ; accuracy 0.10028333\n",
      "epoch 15 : loss 74.05362 ; accuracy 0.1037\n",
      "epoch 16 : loss 71.70773 ; accuracy 0.10706667\n",
      "epoch 17 : loss 69.49758 ; accuracy 0.11073333\n",
      "epoch 18 : loss 67.41649 ; accuracy 0.11485\n",
      "epoch 19 : loss 65.45417 ; accuracy 0.117916666\n",
      "epoch 20 : loss 63.596607 ; accuracy 0.12185\n",
      "epoch 21 : loss 61.834927 ; accuracy 0.12541667\n",
      "epoch 22 : loss 60.16181 ; accuracy 0.12958333\n",
      "epoch 23 : loss 58.569626 ; accuracy 0.13351667\n",
      "epoch 24 : loss 57.051823 ; accuracy 0.13768333\n",
      "epoch 25 : loss 55.60039 ; accuracy 0.1426\n",
      "epoch 26 : loss 54.20914 ; accuracy 0.14725\n",
      "epoch 27 : loss 52.873764 ; accuracy 0.15196666\n",
      "epoch 28 : loss 51.589447 ; accuracy 0.15643333\n",
      "epoch 29 : loss 50.352833 ; accuracy 0.16116667\n",
      "epoch 30 : loss 49.162827 ; accuracy 0.1661\n",
      "epoch 31 : loss 48.019344 ; accuracy 0.17131667\n",
      "epoch 32 : loss 46.922283 ; accuracy 0.17621666\n",
      "epoch 33 : loss 45.871475 ; accuracy 0.18118334\n",
      "epoch 34 : loss 44.866863 ; accuracy 0.18681666\n",
      "epoch 35 : loss 43.90798 ; accuracy 0.1919\n",
      "epoch 36 : loss 42.99585 ; accuracy 0.19651666\n",
      "epoch 37 : loss 42.129 ; accuracy 0.20166667\n",
      "epoch 38 : loss 41.30614 ; accuracy 0.20725\n",
      "epoch 39 : loss 40.52519 ; accuracy 0.21228333\n",
      "epoch 40 : loss 39.783115 ; accuracy 0.21673334\n",
      "epoch 41 : loss 39.07683 ; accuracy 0.22161667\n",
      "epoch 42 : loss 38.404068 ; accuracy 0.2261\n",
      "epoch 43 : loss 37.761967 ; accuracy 0.23101667\n",
      "epoch 44 : loss 37.147682 ; accuracy 0.23563333\n",
      "epoch 45 : loss 36.558388 ; accuracy 0.24013333\n",
      "epoch 46 : loss 35.99175 ; accuracy 0.24456666\n",
      "epoch 47 : loss 35.445705 ; accuracy 0.2488\n",
      "epoch 48 : loss 34.918423 ; accuracy 0.2537\n",
      "epoch 49 : loss 34.40828 ; accuracy 0.25798333\n",
      "test loss 33.477657 ; accuracy 0.2695\n"
     ]
    }
   ],
   "source": [
    "train_data, test_data = mnist_dataset()\n",
    "for epoch in range(50):\n",
    "    loss, accuracy = train_one_step(model, optimizer, \n",
    "                                    tf.constant(train_data[0], dtype=tf.float32), \n",
    "                                    tf.constant(train_data[1], dtype=tf.int64))\n",
    "    print('epoch', epoch, ': loss', loss.numpy(), '; accuracy', accuracy.numpy())\n",
    "loss, accuracy = test(model, \n",
    "                      tf.constant(test_data[0], dtype=tf.float32), \n",
    "                      tf.constant(test_data[1], dtype=tf.int64))\n",
    "\n",
    "print('test loss', loss.numpy(), '; accuracy', accuracy.numpy())"
   ]
  }
 ],
 "metadata": {
  "kernelspec": {
   "display_name": "Python 3",
   "language": "python",
   "name": "python3"
  },
  "language_info": {
   "codemirror_mode": {
    "name": "ipython",
    "version": 3
   },
   "file_extension": ".py",
   "mimetype": "text/x-python",
   "name": "python",
   "nbconvert_exporter": "python",
   "pygments_lexer": "ipython3",
   "version": "3.10.13"
  }
 },
 "nbformat": 4,
 "nbformat_minor": 2
}
